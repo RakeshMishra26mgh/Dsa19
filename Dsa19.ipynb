{
  "nbformat": 4,
  "nbformat_minor": 0,
  "metadata": {
    "colab": {
      "provenance": [],
      "authorship_tag": "ABX9TyNL+cqO7mCsJuu6EuzGxncL",
      "include_colab_link": true
    },
    "kernelspec": {
      "name": "python3",
      "display_name": "Python 3"
    },
    "language_info": {
      "name": "python"
    }
  },
  "cells": [
    {
      "cell_type": "markdown",
      "metadata": {
        "id": "view-in-github",
        "colab_type": "text"
      },
      "source": [
        "<a href=\"https://colab.research.google.com/github/RakeshMishra26mgh/Dsa19/blob/main/Dsa19.ipynb\" target=\"_parent\"><img src=\"https://colab.research.google.com/assets/colab-badge.svg\" alt=\"Open In Colab\"/></a>"
      ]
    },
    {
      "cell_type": "markdown",
      "source": [
        "Answer 1:-"
      ],
      "metadata": {
        "id": "BrGadebY2ruB"
      }
    },
    {
      "cell_type": "code",
      "source": [
        "import heapq\n",
        "class Node:\n",
        "    def __init__(self, data):\n",
        "        self.data = data\n",
        "        self.next = None\n",
        "\n",
        "    def __lt__(self, other):\n",
        "        return self.data < other.data\n",
        "\n",
        "def print_linkedlist(node):\n",
        "    while (node != None) :\n",
        "        print(node.data, end =\" \")\n",
        "        node = node.next\n",
        "\n",
        "def mergeKLists(lists):\n",
        "    heap = []\n",
        "    for head in lists:\n",
        "        if head:\n",
        "            heapq.heappush(heap, head)\n",
        "\n",
        "    dummy = Node(0)\n",
        "    tail = dummy\n",
        "    while heap:\n",
        "        node = heapq.heappop(heap)\n",
        "        tail.next = node\n",
        "        tail = tail.next\n",
        "        if node.next:\n",
        "            heapq.heappush(heap, node.next)\n",
        "    return dummy.next\n",
        "\n",
        "def create_lists():\n",
        "    k = int(input(\"Enter the number of sorted linked lists: \"))\n",
        "    if k <= 0:\n",
        "        print(\"Invalid input. Number of lists must be positive.\")\n",
        "        return None\n",
        "    lists = []\n",
        "    for i in range(k):\n",
        "        n = int(input(f\"Enter the number of nodes in list {i+1}: \"))\n",
        "        if n < 0:\n",
        "            print(\"Invalid input. Number of nodes must be non-negative.\")\n",
        "            return None\n",
        "\n",
        "        if n == 0:\n",
        "            lists.append(None)\n",
        "            continue\n",
        "        val = int(input(f\"Enter the value of node 1 in list {i+1}: \"))\n",
        "        head = Node(val)\n",
        "        curr = head\n",
        "\n",
        "        for j in range(1, n):\n",
        "            val = int(input(f\"Enter the value of node {j+1} in list {i+1}: \"))\n",
        "            if val < curr.data:\n",
        "                print(\"Invalid input. Values must be in ascending order.\")\n",
        "                return None\n",
        "            node = Node(val)\n",
        "            curr.next = node\n",
        "            curr = curr.next\n",
        "\n",
        "        lists.append(head)\n",
        "    return lists\n",
        "\n",
        "lists = create_lists()\n",
        "if lists:\n",
        "    merged_list = mergeKLists(lists)\n",
        "    print(\"The merged sorted linked list is: \")\n",
        "    print_linkedlist(merged_list)\n"
      ],
      "metadata": {
        "id": "QI8NZBSI2tvY"
      },
      "execution_count": null,
      "outputs": []
    },
    {
      "cell_type": "markdown",
      "source": [
        "Answer 2:-"
      ],
      "metadata": {
        "id": "DKU-7HC6I60d"
      }
    },
    {
      "cell_type": "code",
      "source": [
        "class BIT:\n",
        "    def __init__(self, size):\n",
        "        self.size = size\n",
        "        self.tree = [0] * (size + 1)\n",
        "\n",
        "    def update(self, i, val):\n",
        "        while i <= self.size:\n",
        "            self.tree[i] += val\n",
        "            i += i & -i\n",
        "\n",
        "    def query(self, i):\n",
        "        res = 0\n",
        "        while i > 0:\n",
        "            res += self.tree[i]\n",
        "            i -= i & -i\n",
        "        return res\n",
        "\n",
        "def count_smaller(nums):\n",
        "    if not nums:\n",
        "        return []\n",
        "    min_val = min(nums)\n",
        "    max_val = max(nums)\n",
        "    nums = [num - min_val + 1 for num in nums]\n",
        "    bit = BIT(max_val - min_val + 1)\n",
        "    counts = []\n",
        "\n",
        "    for num in reversed(nums):\n",
        "        count = bit.query(num - 1)\n",
        "        counts.append(count)\n",
        "        bit.update(num, 1)\n",
        "    counts.reverse()\n",
        "    return counts\n",
        "\n",
        "nums = input(\"Enter an integer array separated by spaces: \")\n",
        "\n",
        "try:\n",
        "    nums = [int(num) for num in nums.split()]\n",
        "except ValueError:\n",
        "    print(\"Invalid input. Please enter only integers.\")\n",
        "    exit()\n",
        "counts = count_smaller(nums)\n",
        "print(\"The counts are:\", counts)\n"
      ],
      "metadata": {
        "id": "3yT9Xq5wjPqq"
      },
      "execution_count": null,
      "outputs": []
    },
    {
      "cell_type": "markdown",
      "source": [
        "Answer 3:-"
      ],
      "metadata": {
        "id": "SMd4MzepKsY_"
      }
    },
    {
      "cell_type": "code",
      "source": [
        "def merge(arr, left, mid, right):\n",
        "    left_arr = arr[left:mid+1]\n",
        "    right_arr = arr[mid+1:right+1]\n",
        "    i = 0\n",
        "    j = 0\n",
        "    k = left\n",
        "    while i < len(left_arr) and j < len(right_arr):\n",
        "        if left_arr[i] <= right_arr[j]:\n",
        "            arr[k] = left_arr[i]\n",
        "            i += 1\n",
        "        else:\n",
        "            arr[k] = right_arr[j]\n",
        "            j += 1\n",
        "        k += 1\n",
        "\n",
        "    while i < len(left_arr):\n",
        "        arr[k] = left_arr[i]\n",
        "        i += 1\n",
        "        k += 1\n",
        "\n",
        "    while j < len(right_arr):\n",
        "        arr[k] = right_arr[j]\n",
        "        j += 1\n",
        "        k += 1\n",
        "\n",
        "def merge_sort(arr, left, right):\n",
        "    if left == right:\n",
        "        return\n",
        "\n",
        "    mid = (left + right) // 2\n",
        "    merge_sort(arr, left, mid)\n",
        "    merge_sort(arr, mid+1, right)\n",
        "    merge(arr, left, mid, right)\n",
        "\n",
        "def get_input():\n",
        "    n = int(input(\"Enter the length of the array: \"))\n",
        "    if n < 0:\n",
        "        print(\"Invalid input. Length must be non-negative.\")\n",
        "        return None\n",
        "\n",
        "    nums = []\n",
        "    for i in range(n):\n",
        "        val = int(input(f\"Enter element {i+1}: \"))\n",
        "        nums.append(val)\n",
        "    return nums\n",
        "nums = get_input()\n",
        "if nums:\n",
        "    print(\"The original array is: \")\n",
        "    print(nums)\n",
        "    merge_sort(nums, 0, len(nums)-1)\n",
        "    print(\"The sorted array is: \")\n",
        "    print(nums)\n"
      ],
      "metadata": {
        "id": "XdeL2Ms8KodY"
      },
      "execution_count": null,
      "outputs": []
    },
    {
      "cell_type": "markdown",
      "source": [
        "Answer 4:-"
      ],
      "metadata": {
        "id": "sRj4iRT3MfCw"
      }
    },
    {
      "cell_type": "code",
      "source": [
        "def move_zeros(arr):\n",
        "    left = 0\n",
        "    right = 0\n",
        "    while right < len(arr):\n",
        "        if arr[right] != 0:\n",
        "            arr[left], arr[right] = arr[right], arr[left]\n",
        "            left += 1\n",
        "            right += 1\n",
        "        else:\n",
        "            right += 1\n",
        "    return arr\n",
        "\n",
        "def get_input():\n",
        "    n = int(input(\"Enter the length of the array: \"))\n",
        "    if n < 0:\n",
        "        print(\"Invalid input. Length must be non-negative.\")\n",
        "        return None\n",
        "    nums = []\n",
        "\n",
        "    for i in range(n):\n",
        "        val = int(input(f\"Enter element {i+1}: \"))\n",
        "        nums.append(val)\n",
        "    return nums\n",
        "\n",
        "nums = get_input()\n",
        "if nums:\n",
        "    print(\"The original array is: \")\n",
        "    print(nums)\n",
        "    print(\"The modified array is: \")\n",
        "    print(move_zeros(nums))\n"
      ],
      "metadata": {
        "id": "-Yll5Bs0MhT_"
      },
      "execution_count": null,
      "outputs": []
    },
    {
      "cell_type": "markdown",
      "source": [
        "Answer 5:-"
      ],
      "metadata": {
        "id": "XfFVbXXHM5Mo"
      }
    },
    {
      "cell_type": "code",
      "source": [
        "def rearrange(arr):\n",
        "  pos = [x for x in arr if x >= 0]\n",
        "  neg = [x for x in arr if x < 0]\n",
        "\n",
        "  i = 0\n",
        "  j = 0\n",
        "  k = 0\n",
        "\n",
        "  while i < len(pos) and j < len(neg):\n",
        "    arr[k] = neg[j]\n",
        "    k += 1\n",
        "    j += 1\n",
        "    arr[k] = pos[i]\n",
        "    k += 1\n",
        "    i += 1\n",
        "\n",
        "  while i < len(pos):\n",
        "    arr[k] = pos[i]\n",
        "    k += 1\n",
        "    i += 1\n",
        "  while j < len(neg):\n",
        "    arr[k] = neg[j]\n",
        "    k += 1\n",
        "    j += 1\n",
        "\n",
        "def print_array(arr):\n",
        "  for x in arr:\n",
        "    print(x, end=\" \")\n",
        "  print()\n",
        "\n",
        "def input_array():\n",
        "  n = int(input(\"Enter the size of the array: \"))\n",
        "  if n <= 0:\n",
        "    print(\"Invalid size. Please enter a positive number.\")\n",
        "    return None\n",
        "  arr = []\n",
        "  print(\"Enter {} numbers (positive or negative) separated by spaces: \".format(n))\n",
        "  arr = list(map(int, input().split()))\n",
        "  if len(arr) != n:\n",
        "    print(\"Invalid input. Please enter exactly {} numbers.\".format(n))\n",
        "    return None\n",
        "  return arr\n",
        "\n",
        "arr = input_array()\n",
        "if arr is not None:\n",
        "  rearrange(arr)\n",
        "  print_array(arr)\n"
      ],
      "metadata": {
        "id": "-8fBcfmYUQMP"
      },
      "execution_count": null,
      "outputs": []
    },
    {
      "cell_type": "markdown",
      "source": [
        "Answer 6:-"
      ],
      "metadata": {
        "id": "wwWtB6lVUzhE"
      }
    },
    {
      "cell_type": "code",
      "source": [
        "def merge(arr1, arr2):\n",
        "  i = 0\n",
        "  j = 0\n",
        "  arr3 = []\n",
        "  while i < len(arr1) and j < len(arr2):\n",
        "    if arr1[i] <= arr2[j]:\n",
        "      arr3.append(arr1[i])\n",
        "      i += 1\n",
        "    else:\n",
        "      arr3.append(arr2[j])\n",
        "      j += 1\n",
        "  while i < len(arr1):\n",
        "    arr3.append(arr1[i])\n",
        "    i += 1\n",
        "  while j < len(arr2):\n",
        "    arr3.append(arr2[j])\n",
        "    j += 1\n",
        "  return arr3\n",
        "\n",
        "def print_array(arr):\n",
        "  for x in arr:\n",
        "    print(x, end=\" \")\n",
        "  print()\n",
        "\n",
        "def input_array():\n",
        "  n = int(input(\"Enter the size of the array: \"))\n",
        "  if n <= 0:\n",
        "    print(\"Invalid size. Please enter a positive number.\")\n",
        "    return None\n",
        "  arr = []\n",
        "  print(\"Enter {} numbers in sorted order separated by spaces: \".format(n))\n",
        "  arr = list(map(int, input().split()))\n",
        "  if len(arr) != n or any(arr[i] > arr[i+1] for i in range(n-1)):\n",
        "    print(\"Invalid input. Please enter exactly {} numbers in sorted order.\".format(n))\n",
        "    return None\n",
        "  return arr\n",
        "\n",
        "arr1 = input_array()\n",
        "arr2 = input_array()\n",
        "if arr1 is not None and arr2 is not None:\n",
        "  arr3 = merge(arr1, arr2)\n",
        "  print_array(arr3)\n"
      ],
      "metadata": {
        "id": "1HNVbfupU2bd"
      },
      "execution_count": null,
      "outputs": []
    },
    {
      "cell_type": "markdown",
      "source": [
        "Answer 7:-"
      ],
      "metadata": {
        "id": "N54eGpCwWYEb"
      }
    },
    {
      "cell_type": "code",
      "source": [
        "def intersection(nums1, nums2):\n",
        "  set1 = set(nums1)\n",
        "  set2 = set(nums2)\n",
        "  result = []\n",
        "  if len(set1) < len(set2):\n",
        "    for x in set1:\n",
        "      if x in set2:\n",
        "        result.append(x)\n",
        "  else:\n",
        "    for x in set2:\n",
        "      if x in set1:\n",
        "        result.append(x)\n",
        "  return result\n",
        "\n",
        "def print_array(arr):\n",
        "  for x in arr:\n",
        "    print(x, end=\" \")\n",
        "  print()\n",
        "\n",
        "def input_array():\n",
        "  n = int(input(\"Enter the size of the array: \"))\n",
        "  if n <= 0:\n",
        "    print(\"Invalid size. Please enter a positive number.\")\n",
        "    return None\n",
        "  arr = []\n",
        "  print(\"Enter {} numbers (0-1000) separated by spaces: \".format(n))\n",
        "  arr = list(map(int, input().split()))\n",
        "  if len(arr) != n or any(x < 0 or x > 1000 for x in arr):\n",
        "    print(\"Invalid input. Please enter exactly {} numbers between 0 and 1000.\".format(n))\n",
        "    return None\n",
        "  return arr\n",
        "\n",
        "nums1 = input_array()\n",
        "nums2 = input_array()\n",
        "if nums1 is not None and nums2 is not None:\n",
        "  result = intersection(nums1, nums2)\n",
        "  print_array(result)\n"
      ],
      "metadata": {
        "id": "05_ORHh_WaUZ"
      },
      "execution_count": null,
      "outputs": []
    },
    {
      "cell_type": "markdown",
      "source": [
        "Answer 8:-"
      ],
      "metadata": {
        "id": "yUmN6SR2Xt-V"
      }
    },
    {
      "cell_type": "code",
      "source": [
        "def intersection(nums1, nums2):\n",
        "  result = []\n",
        "  freq = {}\n",
        "  for x in nums1:\n",
        "    if x in freq:\n",
        "      freq[x] += 1\n",
        "    else:\n",
        "      freq[x] = 1\n",
        "  for x in nums2:\n",
        "    if x in freq and freq[x] > 0:\n",
        "      result.append(x)\n",
        "      freq[x] -= 1\n",
        "  return result\n",
        "\n",
        "def print_array(arr):\n",
        "  for x in arr:\n",
        "    print(x, end=\" \")\n",
        "  print()\n",
        "\n",
        "def input_array():\n",
        "  n = int(input(\"Enter the size of the array: \"))\n",
        "  if n <= 0:\n",
        "    print(\"Invalid size. Please enter a positive number.\")\n",
        "    return None\n",
        "\n",
        "  arr = []\n",
        "  print(\"Enter {} numbers (0-1000) separated by spaces: \".format(n))\n",
        "  arr = list(map(int, input().split()))\n",
        "  if len(arr) != n or any(x < 0 or x > 1000 for x in arr):\n",
        "    print(\"Invalid input. Please enter exactly {} numbers between 0 and 1000.\".format(n))\n",
        "    return None\n",
        "  return arr\n",
        "\n",
        "nums1 = input_array()\n",
        "nums2 = input_array()\n",
        "if nums1 is not None and nums2 is not None:\n",
        "  result = intersection(nums1, nums2)\n",
        "  print_array(result)\n"
      ],
      "metadata": {
        "id": "QwpqLSq4Xvwc"
      },
      "execution_count": null,
      "outputs": []
    }
  ]
}